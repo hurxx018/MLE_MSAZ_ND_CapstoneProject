{
 "cells": [
  {
   "cell_type": "markdown",
   "source": [
    "# Hyperparameter Tuning using HyperDrive\r\n",
    "\r\n",
    "TODO: Import Dependencies. In the cell below, import all the dependencies that you will need to complete the project."
   ],
   "metadata": {}
  },
  {
   "cell_type": "code",
   "execution_count": 1,
   "source": [
    "import os\r\n",
    "\r\n",
    "import azureml.core\r\n",
    "from azureml.core import Workspace\r\n",
    "from azureml.core import Experiment\r\n",
    "from azureml.core import Environment\r\n",
    "from azureml.core import ScriptRunConfig\r\n",
    "\r\n",
    "from azureml.core import Dataset"
   ],
   "outputs": [],
   "metadata": {
    "gather": {
     "logged": 1598423888013
    },
    "jupyter": {
     "outputs_hidden": false,
     "source_hidden": false
    },
    "nteract": {
     "transient": {
      "deleting": false
     }
    }
   }
  },
  {
   "cell_type": "markdown",
   "source": [],
   "metadata": {}
  },
  {
   "cell_type": "markdown",
   "source": [
    "## Dataset\n",
    "\n",
    "TODO: Get data. In the cell below, write code to access the data you will be using in this project. Remember that the dataset needs to be external."
   ],
   "metadata": {}
  },
  {
   "cell_type": "code",
   "execution_count": null,
   "source": [
    "\r\n",
    "ws = Workspace.from_config()\r\n",
    "ws.write_config(\".azureml\")\r\n",
    "\r\n",
    "experiment_name = 'udacity-capstone-project'\r\n",
    "project_folder = \"hyperdrive-heartfailure\"\r\n",
    "\r\n",
    "experiments = Experiment.list(ws, experiment_name=experiment_name)\r\n",
    "if not experiments:\r\n",
    "      experiment = Experiment(workspace=ws, name=experiment_name)\r\n",
    "else:\r\n",
    "      experiment = experiments[0]\r\n",
    "\r\n",
    "\r\n",
    "print('Workspace name: ' + ws.name, \r\n",
    "      'Azure region: ' + ws.location, \r\n",
    "      'Subscription id: ' + ws.subscription_id, \r\n",
    "      'Resource group: ' + ws.resource_group, sep = '\\n')\r\n",
    "\r\n",
    "run = experiment.start_logging()"
   ],
   "outputs": [],
   "metadata": {}
  },
  {
   "cell_type": "code",
   "execution_count": null,
   "source": [
    "from azureml.core.compute import ComputeTarget, AmlCompute\r\n",
    "from azureml.core.compute_target import ComputeTargetException\r\n",
    "\r\n",
    "# Create compute cluster\r\n",
    "# Use vm_size = \"Standard_D2_V2\" in your provisioning configuration.\r\n",
    "# max_nodes should be no greater than 4.\r\n",
    "\r\n",
    "cpu_cluster_name = \"cpu-cluster\"\r\n",
    "vm_size = \"Standard_D3_V2\"\r\n",
    "max_nodes = 6\r\n",
    "\r\n",
    "try:\r\n",
    "    compute_target = ComputeTarget(workspace=ws, name=cpu_cluster_name)\r\n",
    "    print(\"Found existing cluster. use it\")\r\n",
    "except ComputeTargetException:\r\n",
    "    compute_config = AmlCompute.provisioning_configuration(vm_size=vm_size,\r\n",
    "                                                           max_nodes=max_nodes)\r\n",
    "    compute_target = ComputeTarget.create(ws, cpu_cluster_name, compute_config)\r\n",
    "\r\n",
    "compute_target.wait_for_completion(show_output=True)\r\n",
    "\r\n",
    "# a detailed status for the current cluster.\r\n",
    "print(compute_target.get_status().serialize())"
   ],
   "outputs": [],
   "metadata": {}
  },
  {
   "cell_type": "code",
   "execution_count": null,
   "source": [],
   "outputs": [],
   "metadata": {}
  },
  {
   "cell_type": "code",
   "execution_count": null,
   "source": [],
   "outputs": [],
   "metadata": {}
  },
  {
   "cell_type": "markdown",
   "source": [
    "## Hyperdrive Configuration\n",
    "\n",
    "TODO: Explain the model you are using and the reason for chosing the different hyperparameters, termination policy and config settings."
   ],
   "metadata": {
    "collapsed": true,
    "gather": {
     "logged": 1598531923519
    },
    "jupyter": {
     "outputs_hidden": false,
     "source_hidden": false
    },
    "nteract": {
     "transient": {
      "deleting": false
     }
    }
   }
  },
  {
   "cell_type": "code",
   "execution_count": null,
   "source": [
    "import os\r\n",
    "import shutil\r\n",
    "\r\n",
    "from azureml.widgets import RunDetails\r\n",
    "from azureml.train.hyperdrive.run import PrimaryMetricGoal\r\n",
    "from azureml.train.hyperdrive.policy import BanditPolicy\r\n",
    "from azureml.train.hyperdrive.sampling import RandomParameterSampling\r\n",
    "from azureml.train.hyperdrive.parameter_expressions import uniform, choice\r\n",
    "\r\n",
    "from azureml.core import ScriptRunConfig\r\n",
    "from azureml.train.hyperdrive.runconfig import HyperDriveConfig"
   ],
   "outputs": [],
   "metadata": {}
  },
  {
   "cell_type": "code",
   "execution_count": null,
   "source": [
    "# Create an early termination policy. This is not required if you are using Bayesian sampling.\r\n",
    "early_termination_policy = BanditPolicy(slack_factor=0.2, evaluation_interval=50, delay_evaluation=5) #<your policy here>\r\n",
    "\r\n",
    "#TODO: Create the different params that you will be using during training\r\n",
    "parameter_space = { \"--C\": uniform(0.1, 1.0), \r\n",
    "                    \"--max_iter\": choice([50, 100, 500, 1000]) }\r\n",
    "param_sampling = RandomParameterSampling(parameter_space)\r\n",
    "\r\n"
   ],
   "outputs": [],
   "metadata": {
    "gather": {
     "logged": 1598544893076
    },
    "jupyter": {
     "outputs_hidden": false,
     "source_hidden": false
    },
    "nteract": {
     "transient": {
      "deleting": false
     }
    }
   }
  },
  {
   "cell_type": "code",
   "execution_count": null,
   "source": [
    "script_folder = \"training\"\r\n",
    "os.makedirs(os.path.join(\".\", script_folder), exist_ok=True)\r\n",
    "\r\n",
    "# Create a SKLearn estimator for use with train.py\r\n",
    "shutil.copy(\"./train.py\", os.path.join(\".\", script_folder))\r\n",
    "source_directory=os.path.join(\".\", script_folder)"
   ],
   "outputs": [],
   "metadata": {}
  },
  {
   "cell_type": "code",
   "execution_count": null,
   "source": [
    "%%writefile conda_dependencies.yml\r\n",
    "\r\n",
    "dependencies:\r\n",
    "- python=3.6.2\r\n",
    "- numpy\r\n",
    "- pandas\r\n",
    "- scikit-learn\r\n",
    "- pip:\r\n",
    "  - azureml-defaults"
   ],
   "outputs": [],
   "metadata": {}
  },
  {
   "cell_type": "code",
   "execution_count": null,
   "source": [
    "from azureml.core import Environment\r\n",
    "\r\n",
    "sklearn_env = Environment.from_conda_specification(name = 'sklearn-env', file_path = './conda_dependencies.yml')"
   ],
   "outputs": [],
   "metadata": {}
  },
  {
   "cell_type": "code",
   "execution_count": null,
   "source": [
    "# Use ScrptRunConfig\r\n",
    "src = ScriptRunConfig(source_directory=source_directory,\r\n",
    "                      script='train.py',\r\n",
    "                      arguments=[],\r\n",
    "                      compute_target=compute_target,\r\n",
    "                      environment=sklearn_env)\r\n",
    "\r\n",
    "#Create your estimator and hyperdrive config\r\n",
    "# estimator = <your estimator here>\r\n",
    "\r\n",
    "# hyperdrive_run_config = <your config here?\r\n",
    "\r\n",
    "# Create a HyperDriveConfig using the estimator, hyperparameter sampler, and policy.\r\n",
    "hyperdrive_run_config = HyperDriveConfig(\r\n",
    "                        run_config=src,\r\n",
    "                        hyperparameter_sampling=param_sampling,\r\n",
    "                        policy=early_termination_policy,\r\n",
    "                        primary_metric_name=\"accuracy\",\r\n",
    "                        primary_metric_goal=PrimaryMetricGoal.MAXIMIZE,\r\n",
    "                        max_total_runs=25,\r\n",
    "                        max_concurrent_runs=max_nodes-1\r\n",
    "                        ) "
   ],
   "outputs": [],
   "metadata": {}
  },
  {
   "cell_type": "code",
   "execution_count": null,
   "source": [
    "#TODO: Submit your experiment\r\n",
    "hyperdrive_run = experiment.submit(hyperdrive_run_config)"
   ],
   "outputs": [],
   "metadata": {
    "gather": {
     "logged": 1598544897941
    },
    "jupyter": {
     "outputs_hidden": false,
     "source_hidden": false
    },
    "nteract": {
     "transient": {
      "deleting": false
     }
    }
   }
  },
  {
   "cell_type": "markdown",
   "source": [
    "## Run Details\n",
    "\n",
    "OPTIONAL: Write about the different models trained and their performance. Why do you think some models did better than others?\n",
    "\n",
    "TODO: In the cell below, use the `RunDetails` widget to show the different experiments."
   ],
   "metadata": {
    "collapsed": true,
    "gather": {
     "logged": 1598544898497
    },
    "jupyter": {
     "outputs_hidden": false,
     "source_hidden": false
    },
    "nteract": {
     "transient": {
      "deleting": false
     }
    }
   }
  },
  {
   "cell_type": "code",
   "execution_count": null,
   "source": [
    "RunDetails(hyperdrive_run).show()"
   ],
   "outputs": [],
   "metadata": {
    "gather": {
     "logged": 1598546648408
    },
    "jupyter": {
     "outputs_hidden": false,
     "source_hidden": false
    },
    "nteract": {
     "transient": {
      "deleting": false
     }
    }
   }
  },
  {
   "cell_type": "code",
   "execution_count": null,
   "source": [
    "hyperdrive_run.wait_for_completion(show_output=True)"
   ],
   "outputs": [],
   "metadata": {}
  },
  {
   "cell_type": "markdown",
   "source": [
    "## Best Model\n",
    "\n",
    "TODO: In the cell below, get the best model from the hyperdrive experiments and display all the properties of the model."
   ],
   "metadata": {}
  },
  {
   "cell_type": "code",
   "execution_count": null,
   "source": [],
   "outputs": [],
   "metadata": {
    "gather": {
     "logged": 1598546650307
    },
    "jupyter": {
     "outputs_hidden": false,
     "source_hidden": false
    },
    "nteract": {
     "transient": {
      "deleting": false
     }
    }
   }
  },
  {
   "cell_type": "code",
   "execution_count": null,
   "source": [
    "#TODO: Save the best model"
   ],
   "outputs": [],
   "metadata": {
    "gather": {
     "logged": 1598546657829
    },
    "jupyter": {
     "outputs_hidden": false,
     "source_hidden": false
    },
    "nteract": {
     "transient": {
      "deleting": false
     }
    }
   }
  },
  {
   "cell_type": "markdown",
   "source": [
    "## Model Deployment\n",
    "\n",
    "Remember you have to deploy only one of the two models you trained.. Perform the steps in the rest of this notebook only if you wish to deploy this model.\n",
    "\n",
    "TODO: In the cell below, register the model, create an inference config and deploy the model as a web service."
   ],
   "metadata": {
    "collapsed": true,
    "jupyter": {
     "outputs_hidden": false,
     "source_hidden": false
    },
    "nteract": {
     "transient": {
      "deleting": false
     }
    }
   }
  },
  {
   "cell_type": "code",
   "execution_count": null,
   "source": [],
   "outputs": [],
   "metadata": {}
  },
  {
   "cell_type": "markdown",
   "source": [
    "TODO: In the cell below, send a request to the web service you deployed to test it."
   ],
   "metadata": {}
  },
  {
   "cell_type": "code",
   "execution_count": null,
   "source": [],
   "outputs": [],
   "metadata": {}
  },
  {
   "cell_type": "markdown",
   "source": [
    "TODO: In the cell below, print the logs of the web service and delete the service"
   ],
   "metadata": {}
  },
  {
   "cell_type": "code",
   "execution_count": null,
   "source": [],
   "outputs": [],
   "metadata": {}
  }
 ],
 "metadata": {
  "kernel_info": {
   "name": "python3-azureml"
  },
  "kernelspec": {
   "name": "python3",
   "display_name": "Python 3.8.10 64-bit ('azure': conda)"
  },
  "language_info": {
   "codemirror_mode": {
    "name": "ipython",
    "version": 3
   },
   "file_extension": ".py",
   "mimetype": "text/x-python",
   "name": "python",
   "nbconvert_exporter": "python",
   "pygments_lexer": "ipython3",
   "version": "3.8.10"
  },
  "nteract": {
   "version": "nteract-front-end@1.0.0"
  },
  "interpreter": {
   "hash": "b19a256a7d3812a8e0a3a61d7add31005087a7b63979c46bc7a1e05f0b16a33e"
  }
 },
 "nbformat": 4,
 "nbformat_minor": 2
}